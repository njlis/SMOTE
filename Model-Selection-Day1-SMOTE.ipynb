{
 "cells": [
  {
   "cell_type": "markdown",
   "id": "0740696e",
   "metadata": {},
   "source": [
    "# SMOTE\n",
    "---"
   ]
  },
  {
   "cell_type": "code",
   "execution_count": 1,
   "id": "5bca32c5",
   "metadata": {},
   "outputs": [],
   "source": [
    "import pandas as pd"
   ]
  },
  {
   "cell_type": "code",
   "execution_count": 2,
   "id": "c6b40591",
   "metadata": {},
   "outputs": [
    {
     "data": {
      "text/html": [
       "<div>\n",
       "<style scoped>\n",
       "    .dataframe tbody tr th:only-of-type {\n",
       "        vertical-align: middle;\n",
       "    }\n",
       "\n",
       "    .dataframe tbody tr th {\n",
       "        vertical-align: top;\n",
       "    }\n",
       "\n",
       "    .dataframe thead th {\n",
       "        text-align: right;\n",
       "    }\n",
       "</style>\n",
       "<table border=\"1\" class=\"dataframe\">\n",
       "  <thead>\n",
       "    <tr style=\"text-align: right;\">\n",
       "      <th></th>\n",
       "      <th>FLAG</th>\n",
       "      <th>Avg _Min_Sent_txn</th>\n",
       "      <th>Avg _Min_Recv_txn</th>\n",
       "      <th>Time_Diff</th>\n",
       "      <th>Min value received</th>\n",
       "      <th>Max value received</th>\n",
       "      <th>Min value sent</th>\n",
       "      <th>Max value sent</th>\n",
       "      <th>Total transactions</th>\n",
       "    </tr>\n",
       "  </thead>\n",
       "  <tbody>\n",
       "    <tr>\n",
       "      <th>0</th>\n",
       "      <td>0</td>\n",
       "      <td>21.80</td>\n",
       "      <td>0.00</td>\n",
       "      <td>65.40</td>\n",
       "      <td>101.000000</td>\n",
       "      <td>101.000000</td>\n",
       "      <td>1.000000</td>\n",
       "      <td>84.176518</td>\n",
       "      <td>4</td>\n",
       "    </tr>\n",
       "    <tr>\n",
       "      <th>1</th>\n",
       "      <td>0</td>\n",
       "      <td>1073.76</td>\n",
       "      <td>1476.59</td>\n",
       "      <td>24563.10</td>\n",
       "      <td>0.216334</td>\n",
       "      <td>6.999559</td>\n",
       "      <td>0.000000</td>\n",
       "      <td>7.557834</td>\n",
       "      <td>21</td>\n",
       "    </tr>\n",
       "    <tr>\n",
       "      <th>2</th>\n",
       "      <td>0</td>\n",
       "      <td>13.57</td>\n",
       "      <td>10125.40</td>\n",
       "      <td>638755.18</td>\n",
       "      <td>0.010053</td>\n",
       "      <td>20.000000</td>\n",
       "      <td>0.008583</td>\n",
       "      <td>19.999769</td>\n",
       "      <td>126</td>\n",
       "    </tr>\n",
       "    <tr>\n",
       "      <th>3</th>\n",
       "      <td>0</td>\n",
       "      <td>163765.17</td>\n",
       "      <td>0.00</td>\n",
       "      <td>327530.33</td>\n",
       "      <td>0.002457</td>\n",
       "      <td>0.002457</td>\n",
       "      <td>0.000000</td>\n",
       "      <td>0.000508</td>\n",
       "      <td>3</td>\n",
       "    </tr>\n",
       "    <tr>\n",
       "      <th>4</th>\n",
       "      <td>0</td>\n",
       "      <td>22371.43</td>\n",
       "      <td>29004.65</td>\n",
       "      <td>596613.23</td>\n",
       "      <td>0.005441</td>\n",
       "      <td>1000.000000</td>\n",
       "      <td>0.000000</td>\n",
       "      <td>1000.000000</td>\n",
       "      <td>25</td>\n",
       "    </tr>\n",
       "  </tbody>\n",
       "</table>\n",
       "</div>"
      ],
      "text/plain": [
       "   FLAG  Avg _Min_Sent_txn  Avg _Min_Recv_txn  Time_Diff  Min value received  \\\n",
       "0     0              21.80               0.00      65.40          101.000000   \n",
       "1     0            1073.76            1476.59   24563.10            0.216334   \n",
       "2     0              13.57           10125.40  638755.18            0.010053   \n",
       "3     0          163765.17               0.00  327530.33            0.002457   \n",
       "4     0           22371.43           29004.65  596613.23            0.005441   \n",
       "\n",
       "   Max value received   Min value sent  Max value sent  Total transactions  \n",
       "0           101.000000        1.000000       84.176518                   4  \n",
       "1             6.999559        0.000000        7.557834                  21  \n",
       "2            20.000000        0.008583       19.999769                 126  \n",
       "3             0.002457        0.000000        0.000508                   3  \n",
       "4          1000.000000        0.000000     1000.000000                  25  "
      ]
     },
     "execution_count": 2,
     "metadata": {},
     "output_type": "execute_result"
    }
   ],
   "source": [
    "data= pd.read_excel('./Ether Fraud Transaction case study.xlsx')\n",
    "data.head()"
   ]
  },
  {
   "cell_type": "code",
   "execution_count": 3,
   "id": "cae6b956",
   "metadata": {},
   "outputs": [
    {
     "data": {
      "text/plain": [
       "(9840, 9)"
      ]
     },
     "execution_count": 3,
     "metadata": {},
     "output_type": "execute_result"
    }
   ],
   "source": [
    "# Shape of the Data\n",
    "data.shape"
   ]
  },
  {
   "cell_type": "code",
   "execution_count": 4,
   "id": "4fa70121",
   "metadata": {},
   "outputs": [
    {
     "data": {
      "text/plain": [
       "0    7661\n",
       "1    2179\n",
       "Name: FLAG, dtype: int64"
      ]
     },
     "execution_count": 4,
     "metadata": {},
     "output_type": "execute_result"
    }
   ],
   "source": [
    "# count the values in FLAG\n",
    "data.FLAG.value_counts()"
   ]
  },
  {
   "cell_type": "code",
   "execution_count": 5,
   "id": "68f3afcb",
   "metadata": {},
   "outputs": [],
   "source": [
    "#df1=data['Min value received'].copy()"
   ]
  },
  {
   "cell_type": "code",
   "execution_count": 6,
   "id": "88bb2e07",
   "metadata": {},
   "outputs": [],
   "source": [
    "#df1"
   ]
  },
  {
   "cell_type": "code",
   "execution_count": 7,
   "id": "fb613822",
   "metadata": {},
   "outputs": [],
   "source": [
    "# Dependent and Independents\n",
    "X= data.iloc[:,1:]\n",
    "Y= data.FLAG\n"
   ]
  },
  {
   "cell_type": "code",
   "execution_count": 8,
   "id": "8f2d7452",
   "metadata": {},
   "outputs": [
    {
     "data": {
      "text/html": [
       "<div>\n",
       "<style scoped>\n",
       "    .dataframe tbody tr th:only-of-type {\n",
       "        vertical-align: middle;\n",
       "    }\n",
       "\n",
       "    .dataframe tbody tr th {\n",
       "        vertical-align: top;\n",
       "    }\n",
       "\n",
       "    .dataframe thead th {\n",
       "        text-align: right;\n",
       "    }\n",
       "</style>\n",
       "<table border=\"1\" class=\"dataframe\">\n",
       "  <thead>\n",
       "    <tr style=\"text-align: right;\">\n",
       "      <th></th>\n",
       "      <th>Avg _Min_Sent_txn</th>\n",
       "      <th>Avg _Min_Recv_txn</th>\n",
       "      <th>Time_Diff</th>\n",
       "      <th>Min value received</th>\n",
       "      <th>Max value received</th>\n",
       "      <th>Min value sent</th>\n",
       "      <th>Max value sent</th>\n",
       "      <th>Total transactions</th>\n",
       "    </tr>\n",
       "  </thead>\n",
       "  <tbody>\n",
       "    <tr>\n",
       "      <th>0</th>\n",
       "      <td>21.80</td>\n",
       "      <td>0.00</td>\n",
       "      <td>65.40</td>\n",
       "      <td>101.000000</td>\n",
       "      <td>101.000000</td>\n",
       "      <td>1.000000</td>\n",
       "      <td>84.176518</td>\n",
       "      <td>4</td>\n",
       "    </tr>\n",
       "    <tr>\n",
       "      <th>1</th>\n",
       "      <td>1073.76</td>\n",
       "      <td>1476.59</td>\n",
       "      <td>24563.10</td>\n",
       "      <td>0.216334</td>\n",
       "      <td>6.999559</td>\n",
       "      <td>0.000000</td>\n",
       "      <td>7.557834</td>\n",
       "      <td>21</td>\n",
       "    </tr>\n",
       "    <tr>\n",
       "      <th>2</th>\n",
       "      <td>13.57</td>\n",
       "      <td>10125.40</td>\n",
       "      <td>638755.18</td>\n",
       "      <td>0.010053</td>\n",
       "      <td>20.000000</td>\n",
       "      <td>0.008583</td>\n",
       "      <td>19.999769</td>\n",
       "      <td>126</td>\n",
       "    </tr>\n",
       "    <tr>\n",
       "      <th>3</th>\n",
       "      <td>163765.17</td>\n",
       "      <td>0.00</td>\n",
       "      <td>327530.33</td>\n",
       "      <td>0.002457</td>\n",
       "      <td>0.002457</td>\n",
       "      <td>0.000000</td>\n",
       "      <td>0.000508</td>\n",
       "      <td>3</td>\n",
       "    </tr>\n",
       "    <tr>\n",
       "      <th>4</th>\n",
       "      <td>22371.43</td>\n",
       "      <td>29004.65</td>\n",
       "      <td>596613.23</td>\n",
       "      <td>0.005441</td>\n",
       "      <td>1000.000000</td>\n",
       "      <td>0.000000</td>\n",
       "      <td>1000.000000</td>\n",
       "      <td>25</td>\n",
       "    </tr>\n",
       "  </tbody>\n",
       "</table>\n",
       "</div>"
      ],
      "text/plain": [
       "   Avg _Min_Sent_txn  Avg _Min_Recv_txn  Time_Diff  Min value received  \\\n",
       "0              21.80               0.00      65.40          101.000000   \n",
       "1            1073.76            1476.59   24563.10            0.216334   \n",
       "2              13.57           10125.40  638755.18            0.010053   \n",
       "3          163765.17               0.00  327530.33            0.002457   \n",
       "4           22371.43           29004.65  596613.23            0.005441   \n",
       "\n",
       "   Max value received   Min value sent  Max value sent  Total transactions  \n",
       "0           101.000000        1.000000       84.176518                   4  \n",
       "1             6.999559        0.000000        7.557834                  21  \n",
       "2            20.000000        0.008583       19.999769                 126  \n",
       "3             0.002457        0.000000        0.000508                   3  \n",
       "4          1000.000000        0.000000     1000.000000                  25  "
      ]
     },
     "execution_count": 8,
     "metadata": {},
     "output_type": "execute_result"
    }
   ],
   "source": [
    "X.head()"
   ]
  },
  {
   "cell_type": "code",
   "execution_count": 9,
   "id": "f82ad2ab",
   "metadata": {},
   "outputs": [],
   "source": [
    "# Normalizing using Standard Scaler\n",
    "from sklearn.preprocessing import StandardScaler\n",
    "scale= StandardScaler()"
   ]
  },
  {
   "cell_type": "code",
   "execution_count": 10,
   "id": "3dc2002d",
   "metadata": {},
   "outputs": [],
   "source": [
    "scaled_X= scale.fit_transform(X)"
   ]
  },
  {
   "cell_type": "code",
   "execution_count": 11,
   "id": "751fdd59",
   "metadata": {},
   "outputs": [
    {
     "data": {
      "text/plain": [
       "array([[-0.23563546, -0.34683151, -0.67581383, ..., -0.02741928,\n",
       "        -0.03472053, -0.20658626],\n",
       "       [-0.18667347, -0.28285902, -0.59994049, ..., -0.03463378,\n",
       "        -0.04627836, -0.19401603],\n",
       "       [-0.23601852,  0.09184615,  1.30231167, ..., -0.03457186,\n",
       "        -0.04440151, -0.11637637],\n",
       "       ...,\n",
       "       [-0.23665011, -0.34683151, -0.67601638, ..., -0.03463378,\n",
       "        -0.04741845, -0.20880453],\n",
       "       [-0.21206718, -0.33911628, -0.6710901 , ..., -0.03067802,\n",
       "        -0.04733556, -0.20584683],\n",
       "       [-0.23665011, -0.24418326,  0.22656596, ..., -0.03463378,\n",
       "        -0.04741845, -0.11785522]])"
      ]
     },
     "execution_count": 11,
     "metadata": {},
     "output_type": "execute_result"
    }
   ],
   "source": [
    "scaled_X"
   ]
  },
  {
   "cell_type": "code",
   "execution_count": 12,
   "id": "011db2cb",
   "metadata": {},
   "outputs": [],
   "source": [
    "# Train and Test splitting\n",
    "from sklearn.model_selection import train_test_split\n",
    "x_train, x_test, y_train, y_test= train_test_split(scaled_X,Y, test_size=0.2, random_state=10)"
   ]
  },
  {
   "cell_type": "code",
   "execution_count": 13,
   "id": "c8cae4f8",
   "metadata": {},
   "outputs": [],
   "source": [
    "from sklearn.tree import DecisionTreeClassifier\n",
    "model_DT= DecisionTreeClassifier()"
   ]
  },
  {
   "cell_type": "code",
   "execution_count": 14,
   "id": "d78d2448",
   "metadata": {},
   "outputs": [],
   "source": [
    "# Fit the data into the model\n",
    "model_DT.fit(x_train,y_train)\n",
    "y_predict=model_DT.predict(x_test)"
   ]
  },
  {
   "cell_type": "markdown",
   "id": "ba1fcda3",
   "metadata": {},
   "source": [
    "# Before SMOTE"
   ]
  },
  {
   "cell_type": "code",
   "execution_count": 15,
   "id": "fa38b677",
   "metadata": {},
   "outputs": [
    {
     "name": "stdout",
     "output_type": "stream",
     "text": [
      "0.913109756097561\n"
     ]
    },
    {
     "data": {
      "text/html": [
       "<div>\n",
       "<style scoped>\n",
       "    .dataframe tbody tr th:only-of-type {\n",
       "        vertical-align: middle;\n",
       "    }\n",
       "\n",
       "    .dataframe tbody tr th {\n",
       "        vertical-align: top;\n",
       "    }\n",
       "\n",
       "    .dataframe thead th {\n",
       "        text-align: right;\n",
       "    }\n",
       "</style>\n",
       "<table border=\"1\" class=\"dataframe\">\n",
       "  <thead>\n",
       "    <tr style=\"text-align: right;\">\n",
       "      <th>col_0</th>\n",
       "      <th>0</th>\n",
       "      <th>1</th>\n",
       "    </tr>\n",
       "    <tr>\n",
       "      <th>FLAG</th>\n",
       "      <th></th>\n",
       "      <th></th>\n",
       "    </tr>\n",
       "  </thead>\n",
       "  <tbody>\n",
       "    <tr>\n",
       "      <th>0</th>\n",
       "      <td>1468</td>\n",
       "      <td>85</td>\n",
       "    </tr>\n",
       "    <tr>\n",
       "      <th>1</th>\n",
       "      <td>86</td>\n",
       "      <td>329</td>\n",
       "    </tr>\n",
       "  </tbody>\n",
       "</table>\n",
       "</div>"
      ],
      "text/plain": [
       "col_0     0    1\n",
       "FLAG            \n",
       "0      1468   85\n",
       "1        86  329"
      ]
     },
     "execution_count": 15,
     "metadata": {},
     "output_type": "execute_result"
    }
   ],
   "source": [
    "from sklearn.metrics import accuracy_score\n",
    "print(accuracy_score(y_test, y_predict))\n",
    "pd.crosstab(y_test, y_predict)"
   ]
  },
  {
   "cell_type": "code",
   "execution_count": 16,
   "id": "1dde8c9e",
   "metadata": {},
   "outputs": [],
   "source": [
    "# introduce SMOTE"
   ]
  },
  {
   "cell_type": "code",
   "execution_count": 17,
   "id": "c760bf7f",
   "metadata": {},
   "outputs": [],
   "source": [
    "#pip install imblearn"
   ]
  },
  {
   "cell_type": "code",
   "execution_count": 18,
   "id": "23d7ecfa",
   "metadata": {},
   "outputs": [],
   "source": [
    "#import warnings\n",
    "#filter.warnings('ignore')"
   ]
  },
  {
   "cell_type": "code",
   "execution_count": 19,
   "id": "b3f2812f",
   "metadata": {},
   "outputs": [],
   "source": [
    "from imblearn.over_sampling import SMOTE\n",
    "smote=SMOTE()"
   ]
  },
  {
   "cell_type": "code",
   "execution_count": 20,
   "id": "e3a3a37a",
   "metadata": {},
   "outputs": [],
   "source": [
    "x_train_SMOTE, y_train_SMOTE= smote.fit_resample(x_train.astype('float'),y_train)"
   ]
  },
  {
   "cell_type": "code",
   "execution_count": 21,
   "id": "576fc155",
   "metadata": {},
   "outputs": [],
   "source": [
    "# comparision with Counter\n",
    "from collections import Counter\n"
   ]
  },
  {
   "cell_type": "code",
   "execution_count": 22,
   "id": "ff614e9d",
   "metadata": {},
   "outputs": [
    {
     "name": "stdout",
     "output_type": "stream",
     "text": [
      "Before SMOTE:  Counter({0: 6108, 1: 1764})\n",
      "After SMOTE:  Counter({0: 6108, 1: 6108})\n"
     ]
    }
   ],
   "source": [
    "print(\"Before SMOTE: \", Counter(y_train))\n",
    "print(\"After SMOTE: \", Counter(y_train_SMOTE))"
   ]
  },
  {
   "cell_type": "code",
   "execution_count": 23,
   "id": "1f549299",
   "metadata": {},
   "outputs": [],
   "source": [
    "model_DT.fit(x_train_SMOTE,y_train_SMOTE)\n",
    "y_predict= model_DT.predict(x_test)"
   ]
  },
  {
   "cell_type": "code",
   "execution_count": 24,
   "id": "7c2b0add",
   "metadata": {},
   "outputs": [
    {
     "name": "stdout",
     "output_type": "stream",
     "text": [
      "0.8998983739837398\n"
     ]
    },
    {
     "data": {
      "text/html": [
       "<div>\n",
       "<style scoped>\n",
       "    .dataframe tbody tr th:only-of-type {\n",
       "        vertical-align: middle;\n",
       "    }\n",
       "\n",
       "    .dataframe tbody tr th {\n",
       "        vertical-align: top;\n",
       "    }\n",
       "\n",
       "    .dataframe thead th {\n",
       "        text-align: right;\n",
       "    }\n",
       "</style>\n",
       "<table border=\"1\" class=\"dataframe\">\n",
       "  <thead>\n",
       "    <tr style=\"text-align: right;\">\n",
       "      <th>col_0</th>\n",
       "      <th>0</th>\n",
       "      <th>1</th>\n",
       "    </tr>\n",
       "    <tr>\n",
       "      <th>FLAG</th>\n",
       "      <th></th>\n",
       "      <th></th>\n",
       "    </tr>\n",
       "  </thead>\n",
       "  <tbody>\n",
       "    <tr>\n",
       "      <th>0</th>\n",
       "      <td>1424</td>\n",
       "      <td>129</td>\n",
       "    </tr>\n",
       "    <tr>\n",
       "      <th>1</th>\n",
       "      <td>68</td>\n",
       "      <td>347</td>\n",
       "    </tr>\n",
       "  </tbody>\n",
       "</table>\n",
       "</div>"
      ],
      "text/plain": [
       "col_0     0    1\n",
       "FLAG            \n",
       "0      1424  129\n",
       "1        68  347"
      ]
     },
     "execution_count": 24,
     "metadata": {},
     "output_type": "execute_result"
    }
   ],
   "source": [
    "print(accuracy_score(y_test,y_predict))\n",
    "pd.crosstab(y_test, y_predict)"
   ]
  },
  {
   "cell_type": "code",
   "execution_count": null,
   "id": "a8deb213",
   "metadata": {},
   "outputs": [],
   "source": []
  }
 ],
 "metadata": {
  "kernelspec": {
   "display_name": "Python 3 (ipykernel)",
   "language": "python",
   "name": "python3"
  },
  "language_info": {
   "codemirror_mode": {
    "name": "ipython",
    "version": 3
   },
   "file_extension": ".py",
   "mimetype": "text/x-python",
   "name": "python",
   "nbconvert_exporter": "python",
   "pygments_lexer": "ipython3",
   "version": "3.9.7"
  }
 },
 "nbformat": 4,
 "nbformat_minor": 5
}
